{
 "cells": [
  {
   "cell_type": "code",
   "execution_count": 3,
   "metadata": {},
   "outputs": [],
   "source": [
    "from dwave.system.samplers import DWaveSampler\n",
    "from dwave.system.composites import EmbeddingComposite\n",
    "response = EmbeddingComposite(DWaveSampler(token=\"DEV-0e8e6555e5735bfff43b9e16f91798a062805ccc\")).sample_qubo(Q, num_reads=1000)\n"
   ]
  },
  {
   "cell_type": "code",
   "execution_count": 2,
   "metadata": {},
   "outputs": [
    {
     "name": "stdout",
     "output_type": "stream",
     "text": [
      "{('x0', 'x0'): -1, ('x1', 'x1'): -1, ('x2', 'x2'): -1, ('x0', 'x1'): 2, ('x0', 'x2'): 2, ('x1', 'x2'): 2}\n"
     ]
    }
   ],
   "source": [
    "linear = {('x0', 'x0'): -1, ('x1', 'x1'): -1, ('x2', 'x2'): -1}\n",
    "quadratic = {('x0', 'x1'): 2, ('x0', 'x2'): 2, ('x1', 'x2'): 2}\n",
    " \n",
    "Q = dict(linear)\n",
    "Q.update(quadratic)\n",
    "print(Q)"
   ]
  },
  {
   "cell_type": "code",
   "execution_count": 4,
   "metadata": {},
   "outputs": [
    {
     "name": "stdout",
     "output_type": "stream",
     "text": [
      "{'x0': 0, 'x1': 0, 'x2': 1} Energy:  -1.0 Occurrences:  342\n",
      "{'x0': 1, 'x1': 0, 'x2': 0} Energy:  -1.0 Occurrences:  329\n",
      "{'x0': 0, 'x1': 1, 'x2': 0} Energy:  -1.0 Occurrences:  328\n",
      "{'x0': 0, 'x1': 1, 'x2': 1} Energy:  0.0 Occurrences:  1\n"
     ]
    }
   ],
   "source": [
    "for sample, energy, num_occurrences, chain_break_fraction in list(response.data()):\n",
    "    print(sample, \"Energy: \", energy, \"Occurrences: \", num_occurrences)"
   ]
  }
 ],
 "metadata": {
  "kernelspec": {
   "display_name": "Python 3",
   "language": "python",
   "name": "python3"
  },
  "language_info": {
   "codemirror_mode": {
    "name": "ipython",
    "version": 3
   },
   "file_extension": ".py",
   "mimetype": "text/x-python",
   "name": "python",
   "nbconvert_exporter": "python",
   "pygments_lexer": "ipython3",
   "version": "3.7.5"
  }
 },
 "nbformat": 4,
 "nbformat_minor": 2
}
