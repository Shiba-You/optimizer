{
 "cells": [
  {
   "cell_type": "markdown",
   "metadata": {},
   "source": [
    "## 交通流最適化"
   ]
  },
  {
   "cell_type": "code",
   "execution_count": 105,
   "metadata": {},
   "outputs": [],
   "source": [
    "import blueqat.opt as wq\n",
    "import numpy as np"
   ]
  },
  {
   "cell_type": "code",
   "execution_count": 106,
   "metadata": {},
   "outputs": [
    {
     "name": "stdout",
     "output_type": "stream",
     "text": [
      "Number of cars：\n",
      "2\n",
      "The cost of constraint:\n",
      "1\n",
      "The cost of traffic qubo:\n",
      "0.2\n"
     ]
    }
   ],
   "source": [
    "#入力セル\n",
    "\n",
    "pu_cost_matrix = [[1,1,0,1,1,0],[1,1,0,1,1,0],[1,0,0,1,0,0],[1,0,0,1,0,0],[0,1,0,0,1,0],[0,1,1,0,1,1],[0,0,1,0,0,1],[0,0,1,0,0,1],[0,0,1,0,0,1]]\n",
    "print(\"Number of cars：\")\n",
    "pu_cars_size = int(input()) #2\n",
    "pu_roots_size = int(len(pu_cost_matrix[0])/pu_cars_size)\n",
    "print(\"The cost of constraint:\")\n",
    "pu_K = float(input()) #　1\n",
    "print(\"The cost of traffic qubo:\")\n",
    "pu_A = float(input()) #0.2"
   ]
  },
  {
   "cell_type": "code",
   "execution_count": 108,
   "metadata": {},
   "outputs": [],
   "source": [
    "#コスト関数：第１項\n",
    "def get_traffic_qubo(cars_size, roots_size, K):\n",
    "    qubo_size = cars_size*roots_size\n",
    "    traffic_qubo = np.zeros((qubo_size, qubo_size))\n",
    "    indices = [(u, v, i, j) for u in range(cars_size) for v in range(cars_size) for i in range(roots_size) for j in range(roots_size)]\n",
    "    for u, v, i, j in indices:\n",
    "        ui = u * roots_size + i\n",
    "        vj = v * roots_size + j\n",
    "        if ui > vj:\n",
    "            continue\n",
    "        if ui == vj:\n",
    "            traffic_qubo[ui][vj] -= K\n",
    "        if u == v and i != j:\n",
    "            traffic_qubo[ui][vj] += 2 * K\n",
    "    return traffic_qubo\n",
    "traffic_qubo = get_traffic_qubo(pu_cars_size, pu_roots_size, pu_K)"
   ]
  },
  {
   "cell_type": "code",
   "execution_count": 109,
   "metadata": {},
   "outputs": [],
   "source": [
    "#コスト関数：第２項\n",
    "def get_traffic_cost_qubo(cost_matrix):\n",
    "    traffic_cost_qubo = np.zeros((len(cost_matrix[0]), len(cost_matrix[0])))\n",
    "    for i in range(len(cost_matrix)):\n",
    "        traffic_cost_qubo += wq.sqr(cost_matrix[i])\n",
    "    return traffic_cost_qubo\n",
    "traffic_cost_qubo = get_traffic_cost_qubo(pu_cost_matrix)"
   ]
  },
  {
   "cell_type": "code",
   "execution_count": 110,
   "metadata": {},
   "outputs": [],
   "source": [
    "#観測\n",
    "def get_traffic_optimisation(traffic_qubo, traffic_cost_qubo, qubo_cost):\n",
    "    a = wq.opt()\n",
    "    a.qubo = traffic_qubo + traffic_cost_qubo * qubo_cost\n",
    "    answer = a.sa()\n",
    "    print(answer)\n",
    "    a.plot()\n",
    "    return answer"
   ]
  },
  {
   "cell_type": "code",
   "execution_count": 115,
   "metadata": {},
   "outputs": [],
   "source": [
    "#ハミルトニアンの検証\n",
    "def calculate_H_f(q, cost_matrix):\n",
    "    H_f = 0\n",
    "    for vi in range(len(q)):\n",
    "        if q[vi] == 1:\n",
    "            H_list = []\n",
    "            for k in range(len(cost_matrix)):\n",
    "                H_list.append(cost_matrix[k][vi])\n",
    "            np.square(H_list)\n",
    "            H_f += np.sum(H_list)\n",
    "    print(H_f)\n",
    "    return H_f\n",
    "\n",
    "def calculate_H_s(q, cars_size, roots_size):\n",
    "    H_s = 0\n",
    "    for v in range(cars_size):\n",
    "        sum_x = 0\n",
    "        for i in range(roots_size):\n",
    "            index = v * roots_size + i\n",
    "            sum_x += q[index]\n",
    "        H_s += (1 - sum_x) ** 2\n",
    "    print(H_s)\n",
    "    return H_s\n",
    " \n",
    "def calculate_H(q, cities_size, cost_matrix, roots_size, K):\n",
    "    print(\"hamiltonian_f =\")\n",
    "    H_f = calculate_H_f(q, cost_matrix)\n",
    "    print(\"hamiltonian_s =\")\n",
    "    H_s = calculate_H_s(q, cities_size, roots_size)\n",
    "    H =   H_f + H_s * K\n",
    "    print(\"hamiltonian =\")\n",
    "    print(H)\n",
    "    return H"
   ]
  },
  {
   "cell_type": "code",
   "execution_count": 116,
   "metadata": {},
   "outputs": [
    {
     "name": "stdout",
     "output_type": "stream",
     "text": [
      "[0, 0, 1, 1, 0, 0]\n"
     ]
    },
    {
     "data": {
      "image/png": "[encoded data removed]",
      "text/plain": [
       "<Figure size 432x288 with 1 Axes>"
      ]
     },
     "metadata": {
      "needs_background": "light"
     },
     "output_type": "display_data"
    },
    {
     "name": "stdout",
     "output_type": "stream",
     "text": [
      "hamiltonian_f =\n",
      "8\n",
      "hamiltonian_s =\n",
      "0\n",
      "hamiltonian =\n",
      "8.0\n"
     ]
    },
    {
     "data": {
      "text/plain": [
       "8.0"
      ]
     },
     "execution_count": 116,
     "metadata": {},
     "output_type": "execute_result"
    }
   ],
   "source": [
    "#出力セル\n",
    "traffic_qubo = get_traffic_qubo(pu_cars_size, pu_roots_size, pu_K)\n",
    "traffic_cost_qubo = get_traffic_cost_qubo(pu_cost_matrix)\n",
    "q = get_traffic_optimisation(traffic_qubo, traffic_cost_qubo, pu_A)\n",
    "calculate_H(q, pu_cars_size, pu_cost_matrix, pu_roots_size, pu_K)"
   ]
  }
 ],
 "metadata": {
  "kernelspec": {
   "display_name": "Python 3",
   "language": "python",
   "name": "python3"
  },
  "language_info": {
   "codemirror_mode": {
    "name": "ipython",
    "version": 3
   },
   "file_extension": ".py",
   "mimetype": "text/x-python",
   "name": "python",
   "nbconvert_exporter": "python",
   "pygments_lexer": "ipython3",
   "version": "3.7.5"
  }
 },
 "nbformat": 4,
 "nbformat_minor": 2
}
