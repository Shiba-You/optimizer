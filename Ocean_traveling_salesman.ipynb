{
 "cells": [
  {
   "cell_type": "markdown",
   "metadata": {},
   "source": [
    "## 巡回セールスマン問題"
   ]
  },
  {
   "cell_type": "code",
   "execution_count": null,
   "metadata": {},
   "outputs": [],
   "source": [
    "import networkx as nx\n",
    "import matplotlib.pyplot as plt\n",
    "import blueqat.opt as wq\n",
    "import numpy as np\n",
    "from dimod import *\n",
    "from dwave.cloud import Client\n",
    "from dwave_qbsolv import QBSolv\n",
    "client = Client.from_config(token='DEV-92b24dbe3f6a16cec0d1069a8e52445c5967491a')\n",
    "from dwave.system.samplers import *\n",
    "from dwave.system.samplers import DWaveSampler\n",
    "from dwave.system.composites import EmbeddingComposite\n",
    "import neal\n",
    "import itertools\n",
    "import time\n",
    "from sklearn import preprocessing\n",
    "import hybrid\n",
    "client.get_solvers()"
   ]
  },
  {
   "cell_type": "code",
   "execution_count": null,
   "metadata": {},
   "outputs": [],
   "source": [
    "#入力セル\n",
    "print(\"Number of cities:\")\n",
    "pu_cities_size = int(input())\n",
    "print(\"The cost of constraint:\")\n",
    "pu_B = float(input()) #0.2\n",
    "\n",
    "originList = [i for i in range(pu_cities_size)]\n",
    "ObjectList = list(itertools.combinations(originList, 2))\n",
    "cost_matrix = list(itertools.combinations(originList, 2))\n",
    "for i in range(len(cost_matrix)):\n",
    "    if abs(cost_matrix[i][0] - cost_matrix[i][1]):\n",
    "        cost_matrix[i] += (cost_matrix[i][0] + cost_matrix[i][1], )"
   ]
  },
  {
   "cell_type": "code",
   "execution_count": null,
   "metadata": {},
   "outputs": [],
   "source": [
    "#グラフ描写\n",
    "options = {'node_color': '#efefef','node_size': 1200,'with_labels':'True'}\n",
    "G = nx.Graph()\n",
    "G.add_nodes_from(nx.path_graph(pu_cities_size))\n",
    "G.add_edges_from(ObjectList)\n",
    "nx.draw(G, **options)"
   ]
  },
  {
   "cell_type": "code",
   "execution_count": null,
   "metadata": {},
   "outputs": [],
   "source": [
    "#コスト関数：第１項\n",
    "def get_traveling_qubo(cities_size):\n",
    "    qubo_size = cities_size*cities_size\n",
    "    traveling_qubo = np.zeros((qubo_size, qubo_size))\n",
    "    indices = [(u, v, i, j) for u in range(cities_size) for v in range(cities_size) for i in range(cities_size) for j in range(cities_size)]\n",
    "    for u, v, i, j in indices:\n",
    "        ui = u * cities_size + i\n",
    "        vj = v * cities_size + j\n",
    "        if ui > vj:\n",
    "            continue\n",
    "        if ui == vj:\n",
    "            traveling_qubo[ui][vj] -= 2\n",
    "        if u == v and i != j:\n",
    "            traveling_qubo[ui][vj] += 2\n",
    "        if u < v and i == j:\n",
    "            traveling_qubo[ui][vj] += 2\n",
    "    return traveling_qubo, qubo_size, cities_size\n",
    "# traveling_qubo, qubo_size, cities_size = get_traveling_qubo(pu_cities_size)\n",
    "# print(traveling_qubo)"
   ]
  },
  {
   "cell_type": "code",
   "execution_count": null,
   "metadata": {},
   "outputs": [],
   "source": [
    "#コスト関数：第２項\n",
    "def get_traveling_cost_qubo(qubo_size, cities_size, cost_matrix):\n",
    "    traveling_cost_qubo = np.zeros((qubo_size, qubo_size))\n",
    "    indices = [(u, v, i, j) for u in range(cities_size) for v in range(cities_size) for i in range(cities_size) for j in range(cities_size)]\n",
    "    for u, v, i, j in indices:\n",
    "        ui = u * cities_size + i\n",
    "        vj = v * cities_size + j\n",
    "        k = abs(i - j)\n",
    "        if ui > vj:\n",
    "            continue\n",
    "        if (k ==1 or k == cities_size-1) and u < v:\n",
    "            for r in range(len(cost_matrix)):\n",
    "                if cost_matrix[r][0] == u and cost_matrix[r][1] == v:\n",
    "                    traveling_cost_qubo[ui][vj] += cost_matrix[r][2]\n",
    "    return traveling_cost_qubo\n",
    "# traveling_cost_qubo = get_traveling_cost_qubo(qubo_size, cities_size, cost_matrix)\n",
    "# print(traveling_cost_qubo)"
   ]
  },
  {
   "cell_type": "raw",
   "metadata": {},
   "source": [
    "samplerは低エネルギーのものからサンプリングするプロセス。\n",
    "「SimulatedAnnealingSampler」で呼ぶことができ、「sample_qubo」と「sample_ising」に対応している。"
   ]
  },
  {
   "cell_type": "code",
   "execution_count": null,
   "metadata": {},
   "outputs": [],
   "source": [
    "def get_ocean_qubo_re(traveling_cost_qubo, traveling_qubo, B, cities_size):\n",
    "    with Client.from_config() as client:\n",
    "        solver = client.get_solver()\n",
    "        p_qubo = traveling_qubo + traveling_cost_qubo * B\n",
    "        keys = []\n",
    "        for i in range(len(p_qubo[0])):\n",
    "            for j in range(len(p_qubo[1])):\n",
    "                keys.append((i, j))\n",
    "        Q = {key: val for key, val in zip(keys, p_qubo.reshape(-1))}\n",
    "#         sampler = neal.SimulatedAnnealingSampler()\n",
    "#         print(Q)\n",
    "        computation = solver.sample_qubo(Q,num_reads=10)\n",
    "        for sample in computation.samples:\n",
    "            result = sample\n",
    "            print(result)\n",
    "    return result"
   ]
  },
  {
   "cell_type": "code",
   "execution_count": null,
   "metadata": {},
   "outputs": [],
   "source": [
    "#観測\n",
    "def get_travelingsalesman_qubo(traveling_cost_qubo, traveling_qubo, B, cities_size):\n",
    "    a = wq.opt()\n",
    "    a.qubo = traveling_qubo + traveling_cost_qubo * B\n",
    "#     idx = np.unravel_index(np.argmax(a.qubo), a.qubo.shape)\n",
    "#     a.qubo /= a.qubo[idx]\n",
    "    print(a.qubo)\n",
    "    answer = a.sa()\n",
    "    result = np.zeros([cities_size,cities_size])\n",
    "    k = 0\n",
    "    for i in range(int(len(answer)/cities_size)):\n",
    "        result[i] += answer[k : k+cities_size]\n",
    "        k += cities_size\n",
    "    print(answer)\n",
    "    print(result)\n",
    "#     a.plot()\n",
    "    return answer, a.qubo"
   ]
  },
  {
   "cell_type": "code",
   "execution_count": null,
   "metadata": {},
   "outputs": [],
   "source": [
    "#ハミルトニアンの検証\n",
    "def calculate_H_f(q, cities_size):\n",
    "    H_f = 0\n",
    "    for v in range(cities_size):\n",
    "        sum_x = 0\n",
    "        for i in range(cities_size):\n",
    "            index = v * cities_size + i\n",
    "            sum_x += q[index]\n",
    "        H_f += (1 - sum_x) ** 2\n",
    "    print(H_f)\n",
    "    return H_f\n",
    "\n",
    "def calculate_H_s(q, cities_size):\n",
    "    H_s = 0\n",
    "    for i in range(cities_size):\n",
    "        sum_x = 0\n",
    "        for v in range(cities_size):\n",
    "            index = v * cities_size + i\n",
    "            sum_x += q[index]\n",
    "        H_s += (1 - sum_x) ** 2\n",
    "    print(H_s)\n",
    "    return H_s\n",
    "\n",
    "def calculate_H_t(q, cities_size, cost_matrix):\n",
    "    H_t = 0\n",
    "    indices = [(u, v, i, j) for u in range(cities_size) for v in range(cities_size) for i in range(cities_size) for j in range(cities_size)]\n",
    "    for u, v, i, j in indices:\n",
    "        ui = u * cities_size + i\n",
    "        vj = v * cities_size + j\n",
    "        k = abs(i - j)\n",
    "        if ui >= vj:\n",
    "            continue\n",
    "        if k == 1:\n",
    "            if q[ui] == 1 and q[vj] == 1:\n",
    "                for k in range(len(cost_matrix)):\n",
    "                    if cost_matrix[k][0] == u and cost_matrix[k][1] == v:\n",
    "                        H_t += cost_matrix[k][2]\n",
    "    print(H_t)\n",
    "    return H_t\n",
    "\n",
    "def calculate_H(q, cities_size, cost_matrix, B):\n",
    "    print(\"hamiltonian_f =\")\n",
    "    H_f = calculate_H_f(q, cities_size)\n",
    "    print(\"hamiltonian_s =\")\n",
    "    H_s = calculate_H_s(q, cities_size)\n",
    "    print(\"hamiltonian_t =\")\n",
    "    H_t = calculate_H_t(q, cities_size, cost_matrix)\n",
    "    H =  H_f + H_s + H_t * B\n",
    "    print(\"hamiltonian =\")\n",
    "    print(H)\n",
    "    return H\n",
    "# calculate_H(q, cities_size, cost_matrix, pu_B)"
   ]
  },
  {
   "cell_type": "code",
   "execution_count": null,
   "metadata": {},
   "outputs": [],
   "source": [
    "# 入力セル\n",
    "print(\"Number of cities:\")\n",
    "pu_cities_size = int(input())\n",
    "print(\"The cost of constraint:\")\n",
    "pu_B = float(input()) #0.2 # 10: 0.0001\n",
    "\n",
    "originList = [i for i in range(pu_cities_size)]\n",
    "ObjectList = list(itertools.combinations(originList, 2))\n",
    "cost_matrix = list(itertools.combinations(originList, 2))\n",
    "cost_len = len(cost_matrix)\n",
    "\n",
    "# for i in range(len(cost_matrix)):\n",
    "#     cost_matrix[i] += (cost_matrix[i][0] + cost_matrix[i][1], )\n",
    "# print(cost_matrix)\n",
    "\n",
    "\n",
    "for i in range(cost_len):\n",
    "    if abs(cost_matrix[i][0] - cost_matrix[i][1])==3:\n",
    "        cost_matrix[i] += (2, )\n",
    "    elif abs(cost_matrix[i][0] - cost_matrix[i][1])==7:\n",
    "        cost_matrix[i] += (2, )\n",
    "    else:\n",
    "        cost_matrix[i] += (10000, )\n",
    "\n",
    "# for i in range(len(origin_cost_matrix)):\n",
    "#     if abs(origin_cost_matrix[i][0] - origin_cost_matrix[i][1])==3:\n",
    "\n",
    "# cost_matrix = []\n",
    "# for i in range(len(origin_cost_matrix)):\n",
    "#     if origin_cost_matrix[i][2]!=0:\n",
    "#         cost_matrix.append(origin_cost_matrix[i])"
   ]
  },
  {
   "cell_type": "code",
   "execution_count": null,
   "metadata": {},
   "outputs": [],
   "source": [
    "#出力セル\n",
    "traveling_qubo, qubo_size, cities_size = get_traveling_qubo(pu_cities_size)\n",
    "traveling_cost_qubo = get_traveling_cost_qubo(qubo_size, cities_size, cost_matrix)"
   ]
  },
  {
   "cell_type": "code",
   "execution_count": null,
   "metadata": {},
   "outputs": [],
   "source": [
    "for i in range(1):\n",
    "    q, aqubo = get_travelingsalesman_qubo(traveling_cost_qubo, traveling_qubo, pu_B, pu_cities_size)\n",
    "    calculate_H(q, cities_size, cost_matrix, pu_B)"
   ]
  },
  {
   "cell_type": "code",
   "execution_count": null,
   "metadata": {},
   "outputs": [],
   "source": [
    "def get_ocean_qubo_re(traveling_cost_qubo, traveling_qubo, B, cities_size):\n",
    "#     solver = client.get_solver()\n",
    "    p_qubo = traveling_qubo + traveling_cost_qubo * B\n",
    "    keys = []\n",
    "    for i in range(len(p_qubo[0])):\n",
    "        for j in range(len(p_qubo[1])):\n",
    "            keys.append((i, j))\n",
    "    Q = {key: val for key, val in zip(keys, p_qubo.reshape(-1))}\n",
    "#     sampler = neal.SimulatedAnnealingSampler()\n",
    "    sampler = EmbeddingComposite(DWaveSampler())\n",
    "#     print(Q)\n",
    "    result = QBSolv(qpu_reads = 1000).sample_qubo(Q, num_reads=10, qpu_sampler=sampler)\n",
    "    result_dw = result.first.sample\n",
    "#     result = sampler.sample_qubo(Q,num_reads=10)\n",
    "#         for sample in computation.samples:\n",
    "#             result = sample\n",
    "    print(result_dw)\n",
    "    return result_dw"
   ]
  },
  {
   "cell_type": "code",
   "execution_count": null,
   "metadata": {},
   "outputs": [],
   "source": [
    "#Oceanによる出力\n",
    "timelist = []\n",
    "ocean_ans = []\n",
    "for i in range(3):\n",
    "    start = time.time()\n",
    "#     ocean_ans = get_ocean_qubo_re(traveling_cost_qubo, traveling_qubo, pu_B, cities_size)\n",
    "    ocean_ans.append(get_ocean_qubo_re(traveling_cost_qubo, traveling_qubo, pu_B, cities_size))\n",
    "    timelist.append(time.time() - start)\n",
    "print(timelist)"
   ]
  },
  {
   "cell_type": "code",
   "execution_count": null,
   "metadata": {},
   "outputs": [],
   "source": [
    "#最小を取る\n",
    "ans = np.zeros([len(ocean_ans[:]), pu_cities_size, pu_cities_size])\n",
    "for j in range(len(ocean_ans[:])):\n",
    "    k = 0\n",
    "    l = list(ocean_ans[j].values())\n",
    "    for i in range(int(pu_cities_size)):\n",
    "        ans[j, i] += l[k: k+pu_cities_size]\n",
    "        k += pu_cities_size\n",
    "        print(len(l))\n",
    "        print(ans[j,i])\n",
    "        print(ans.shape)\n",
    "print(ans)"
   ]
  },
  {
   "cell_type": "code",
   "execution_count": null,
   "metadata": {},
   "outputs": [],
   "source": [
    "#最小以外も取る\n",
    "ans = np.zeros([10,pu_cities_size,pu_cities_size])\n",
    "for j in range(len(ocean_ans.record.sample[:])):\n",
    "    k = 0\n",
    "    for i in range(int(len(ocean_ans.record.sample[0])/pu_cities_size)):\n",
    "        ans[j, i] += ocean_ans.record.sample[j, k: k+pu_cities_size]\n",
    "        k += pu_cities_size\n",
    "print(ans)"
   ]
  },
  {
   "cell_type": "code",
   "execution_count": null,
   "metadata": {},
   "outputs": [],
   "source": [
    "index = np.zeros([10,pu_cities_size])\n",
    "for j in range(len(ans[:])):\n",
    "    k = 0\n",
    "    for i in range(int(len(ans[0]))):\n",
    "        if (np.count_nonzero(ans[j, i] == 1)) == 1:\n",
    "            index[j, i] += np.where(ans[j, i] == 1)[0]\n",
    "        elif (np.count_nonzero(ans[j, i] == 1)) > 1:\n",
    "            index[j, i] += np.count_nonzero(ans[j, i] == 1)\n",
    "        else:\n",
    "            index[j, i] += 0\n",
    "print(index)"
   ]
  }
 ],
 "metadata": {
  "kernelspec": {
   "display_name": "Python 3",
   "language": "python",
   "name": "python3"
  },
  "language_info": {
   "codemirror_mode": {
    "name": "ipython",
    "version": 3
   },
   "file_extension": ".py",
   "mimetype": "text/x-python",
   "name": "python",
   "nbconvert_exporter": "python",
   "pygments_lexer": "ipython3",
   "version": "3.7.5"
  }
 },
 "nbformat": 4,
 "nbformat_minor": 4
}
